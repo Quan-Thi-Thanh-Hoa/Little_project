{
  "cells": [
    {
      "cell_type": "markdown",
      "metadata": {
        "id": "CtpmzhmaTg_C"
      },
      "source": [
        "# Sound Magician\n",
        "\n",
        "## Giới thiệu \n",
        "Nâng cao! Có thể bạn đã từng xem một bộ phim hoặc chương trình truyền hình mà các điệp viên siêu hạng sử dụng một số kỹ thuật khó tin để nâng cao hình ảnh pixelated hoặc khôi phục một số dữ liệu bị mất. Tại đây sẽ thực hiện điều tương tự — lần này mục tiêu của bạn là sử dụng hồi quy tuyến tính để khôi phục hoặc 'điền vào' phần bị xóa hoàn toàn của một tệp âm thanh!\n",
        "\n",
        "Bạn sẽ sử dụng FSDD (Free-Spoken-Digits-Dataset), một tập dữ liệu âm thanh do Zohar Jackson tổng hợp lại khi anh ấy nhận thấy không có nhiều âm thanh được làm sạch (không có khoảng trống, độ dài tương đương, cùng bitrate, cùng tỷ lệ mẫu trên giây, ...) thư viện âm thanh sẵn sàng cho machine learning."
      ]
    },
    {
      "cell_type": "code",
      "execution_count": 1,
      "metadata": {},
      "outputs": [],
      "source": [
        "import numpy as np\n",
        "import pandas as pd\n",
        "\n",
        "from sklearn.utils.validation import check_random_state\n",
        "import scipy.io.wavfile as wavfile"
      ]
    },
    {
      "cell_type": "markdown",
      "metadata": {},
      "source": [
        "`Tín hiệu Analog là tín hiệu liên tục, đồ thị biểu diễn tín hiệu analog là một đường liên tục (ví dụ sin, cos hoặc đường cong lên xuống bất kỳ). Analog có nghĩa là tương tự, tức là tín hiệu sẽ tương tự về bản chất, nhưng sẽ khác nhau về cường độ tín hiệu lúc sau so với lúc trước.`\n",
        "\n",
        "`Trong toán học, phép ngoại suy là quá trình ước tính giá trị của một biến trên cơ sở mối quan hệ của nó với biến khác, vượt ra ngoài phạm vi quan sát ban đầu.`\n",
        "\n",
        "`Đề muốn mình khôi phục lại những đoạn analog bị thiếu bằng ngoại suy`"
      ]
    },
    {
      "cell_type": "markdown",
      "metadata": {
        "id": "FIJAy5U0Tg_T"
      },
      "source": [
        "### Về Âm thanh"
      ]
    },
    {
      "cell_type": "markdown",
      "metadata": {
        "id": "y9lY3g5oTg_U"
      },
      "source": [
        "Mẫu là các quan sát. Mỗi tệp âm thanh sẽ là một mẫu duy nhất trong tập dữ liệu.\n",
        "\n",
        "Tìm thêm thông tin về [Mẫu âm thanh tại đây] (https://en.wikipedia.org/wiki/Sampling_(signal_processing)).\n",
        "\n",
        "Mỗi tệp .wav thực sự chỉ là một loạt các mẫu số, được lấy mẫu từ tín hiệu analog. Sampling (Lấy mẫu) là một kiểu rời rạc. Khi chúng ta đề cập đến các 'sample (mẫu)', tức là các quan sát. Khi đề cập đến 'audio sample', chúng ta muốn nói đến \"feature (thuộc tính)\" thực sự của tệp âm thanh.\n",
        "\n",
        "Mục tiêu của lab này là sử dụng hồi quy tuyến tính, đa mục tiêu để tạo ra bằng phép ngoại suy phần bị thiếu của tệp âm thanh thử nghiệm.\n",
        "\n",
        "Mỗi một thuộc tính audio_sample sẽ là đầu ra của một phương trình, là một hàm của phần được cung cấp của audio_samples:\n",
        "\n",
        "    missing_samples = f(provided_samples)\n",
        "\n",
        "Bạn có thể thử với lượng âm thanh bạn muốn cắt và để máy tính tạo ra bằng tham số Provided_Portion."
      ]
    },
    {
      "cell_type": "markdown",
      "metadata": {
        "collapsed": false,
        "id": "ayulRqRrTg_W"
      },
      "source": [
        "Hãy sử dụng cái này. Đây là lượng tệp âm thanh sẽ được cung cấp, tính bằng phần trăm. Phần trăm còn lại của tệp sẽ được tạo thông qua phép ngoại suy tuyến tính."
      ]
    },
    {
      "cell_type": "code",
      "execution_count": 2,
      "metadata": {
        "id": "i7chXL5DTg_X"
      },
      "outputs": [],
      "source": [
        "Provided_Portion = 0.25"
      ]
    },
    {
      "cell_type": "markdown",
      "metadata": {},
      "source": [
        "có nghĩa là 75% là X và 25% Y"
      ]
    },
    {
      "cell_type": "markdown",
      "metadata": {
        "collapsed": true,
        "id": "CvGpdC1RTg_d"
      },
      "source": [
        "## 1. Chuẩn bị dữ liệu"
      ]
    },
    {
      "cell_type": "markdown",
      "metadata": {
        "id": "KMngCekmTg_f"
      },
      "source": [
        "Bắt đầu bằng cách tạo một list Python thông thường là `zero`:"
      ]
    },
    {
      "cell_type": "markdown",
      "metadata": {
        "id": "lJTKO612Tg_m"
      },
      "source": [
        "Lặp qua tập dữ liệu và tải lên tất cả 50 tệp `0_jackson*.wav` bằng phương thức `wavfile.read()`: https://docs.scipy.org/doc/scipy-0.14.0/reference/generated/scipy.io.wavfile.read.html từ thư mục [data](https://drive.google.com/drive/folders/1UDAvuRfXzcOcpI84neQAmAeffIrJKKBi?usp=sharing).\n",
        "\n",
        "Hãy cẩn thận! `.read()` trả về một tuple và bạn chỉ quan tâm đến dữ liệu âm thanh chứ không phải sample_rate tại thời điểm này. Bên trong vòng lặp for, chỉ cần nối dữ liệu âm thanh đã tải vào list Python `zero`:"
      ]
    },
    {
      "cell_type": "code",
      "execution_count": 3,
      "metadata": {},
      "outputs": [
        {
          "name": "stdout",
          "output_type": "stream",
          "text": [
            "[array([-369, -431, -475, ...,  301,  324,  304], dtype=int16), array([-311,  -91, -140, ...,  378,  357,  333], dtype=int16), array([-314, -303, -332, ..., -355, -343, -322], dtype=int16), array([347, 351, 462, ..., 365, 338, 302], dtype=int16), array([-336,  160,   65, ..., -315, -343, -319], dtype=int16), array([ 354,  442,  610, ..., -312, -336, -333], dtype=int16), array([ 397,  531,  638, ..., -357, -386, -353], dtype=int16), array([ 382,  459,  530, ..., -254, -301, -309], dtype=int16), array([-393,   54,  -71, ...,  319,  340,  313], dtype=int16), array([-311, -363, -318, ..., -239, -305, -304], dtype=int16), array([-316, -336, -342, ..., -442, -424, -310], dtype=int16), array([ 335,  392,  481, ..., -302, -314, -304], dtype=int16), array([-361, -226, -238, ..., -286, -311, -343], dtype=int16), array([-309, -323, -333, ..., -301, -300, -304], dtype=int16), array([ 305,  305,  294, ..., -379, -342, -300], dtype=int16), array([ 342,  452,  546, ..., -356, -353, -332], dtype=int16), array([-350, -391, -371, ..., -454, -416, -358], dtype=int16), array([-358, -447, -533, ..., -313, -261, -310], dtype=int16), array([-313, -347, -332, ..., -317, -350, -331], dtype=int16), array([ 332,    0,  -58, ..., -473, -511, -418], dtype=int16), array([-304, -319, -377, ..., -438, -457, -425], dtype=int16), array([-332, -396, -502, ..., -267, -274, -322], dtype=int16), array([-317, -346, -377, ...,  451,  432,  351], dtype=int16), array([ 323,  338,  357, ..., -246, -280, -301], dtype=int16), array([-328, -401, -471, ..., -213, -274, -360], dtype=int16), array([-328, -372, -403, ...,  219,  298,  329], dtype=int16), array([-310, -377, -502, ...,  294,  351,  323], dtype=int16), array([ 310,  339,  351, ..., -327, -351, -311], dtype=int16), array([-309, -385, -459, ...,  363,  364,  306], dtype=int16), array([303, 348, 354, ..., 135, 186, 302], dtype=int16), array([-348, -418, -431, ...,  329,  357,  354], dtype=int16), array([ 306,  399,  455, ..., -228, -345, -344], dtype=int16), array([-326, -362, -376, ..., -315, -321, -316], dtype=int16), array([-317, -199, -303, ...,  393,  409,  384], dtype=int16), array([-302, -312, -103, ..., -338, -333, -348], dtype=int16), array([ 322,  395,  470, ..., -344, -343, -319], dtype=int16), array([355, 425, 481, ..., 398, 372, 332], dtype=int16), array([ 331,  404,  490, ..., -297, -307, -318], dtype=int16), array([-307, -334, -336, ...,  354,  328,  312], dtype=int16), array([-316, -377, -435, ..., -325, -311, -301], dtype=int16), array([ 301,  394,  507, ..., -423, -401, -329], dtype=int16), array([343, 404, 454, ..., 420, 377, 345], dtype=int16), array([ 320,  372,  421, ..., -234, -264, -302], dtype=int16), array([-439, -572, -656, ...,  425,  343,  310], dtype=int16), array([-302, -337, -371, ...,   59, -180, -352], dtype=int16), array([ 305,  365,  419, ..., -313, -342, -346], dtype=int16), array([ 364,  420,  469, ..., -326, -334, -351], dtype=int16), array([-417,  152,  168, ...,  312,  316,  309], dtype=int16), array([ 330,  382,  389, ..., -410, -400, -385], dtype=int16), array([-312, -335, -338, ...,  384,  371,  345], dtype=int16)]\n"
          ]
        }
      ],
      "source": [
        "import glob\n",
        "zero = []\n",
        "directory = 'data-20221026T160641Z-001/data'\n",
        "for fname in glob.glob(r'data-20221026T160641Z-001\\data\\0_jackson_*.wav'):\n",
        "    sample_rate, data = wavfile.read(fname)\n",
        "    zero.append(data)\n",
        "print(zero)"
      ]
    },
    {
      "cell_type": "code",
      "execution_count": 4,
      "metadata": {},
      "outputs": [],
      "source": [
        "# import os\n",
        "# import scipy.io.wavfile as wavfile\n",
        "\n",
        "# zero = []\n",
        "# directory = \"data-20221026T160641Z-001/data\"\n",
        "# for fname in os.listdir(directory):\n",
        "#     if fname.startswith(\"0_jackson\"):\n",
        "#         fullname = os.path.join(directory, fname)\n",
        "#         sample_rate, data = wavfile.read(fullname)\n",
        "#         zero.append( data )\n",
        "# print(zero)"
      ]
    },
    {
      "cell_type": "code",
      "execution_count": 5,
      "metadata": {},
      "outputs": [],
      "source": [
        "# import os\n",
        "# from scipy.io.wavfile import read\n",
        "# zero = []\n",
        "# for i in range(50):\n",
        "#     f = r'C:\\Users\\Quan Thi Thanh Hoa\\AppData\\Funix\\data-20221026T160641Z-001' + \"\\data\\\\0_jackson_\"+ str(i) +\".wav\"\n",
        "#     file = read(f, 'r')\n",
        "#     zero.append(file[1])\n",
        "#     print(zero)"
      ]
    },
    {
      "cell_type": "markdown",
      "metadata": {
        "collapsed": false,
        "id": "dzHr1FEzTg_u"
      },
      "source": [
        "Hãy dành một chút thời gian để chuyển 0 thành một khung dữ liệu (DataFrame). Khi bạn làm như vậy, hãy đặt `dtype` thành `np.int16`, vì các tệp âm thanh đầu vào là 16 bit cho mỗi mẫu. Nếu bạn không biết cách thực hiện việc này, hãy đọc tài liệu tại đây: http://pandas.pydata.org/pandas-docs/stable/generated/pandas.DataFrame.html\n",
        "\n",
        "Tiếc là những đoạn âm thanh này không được chuẩn hóa độ dài nên chúng ta sẽ phải chia nhỏ chúng để tất cả có cùng độ dài. Vì Pandas sẽ chèn các NAN tại bất kỳ vị trí nào để tạo thành mảng [n_observed_samples, n_audio_samples] hình chữ nhật hoàn hảo nên hãy thực hiện một `dropna` trên trục Y ở đây. Sau đó, chuyển đổi 1 trở lại thành NDArray bằng `yourarrayname.values`:"
      ]
    },
    {
      "cell_type": "code",
      "execution_count": 6,
      "metadata": {},
      "outputs": [
        {
          "name": "stderr",
          "output_type": "stream",
          "text": [
            "C:\\Users\\Quan Thi Thanh Hoa\\AppData\\Local\\Temp\\ipykernel_28072\\3353062974.py:2: FutureWarning: In a future version of pandas all arguments of DataFrame.dropna will be keyword-only.\n",
            "  zero = zero.dropna(1)\n"
          ]
        },
        {
          "data": {
            "text/plain": [
              "array([[-369, -431, -475, ..., -108, -402, -884],\n",
              "       [-311,  -91, -140, ..., -422, -462, -460],\n",
              "       [-314, -303, -332, ..., 3418, 2640, 1202],\n",
              "       ...,\n",
              "       [-417,  152,  168, ...,  638,  463,  332],\n",
              "       [ 330,  382,  389, ...,  602,  708,  701],\n",
              "       [-312, -335, -338, ...,  644,  815,  580]], dtype=int16)"
            ]
          },
          "execution_count": 6,
          "metadata": {},
          "output_type": "execute_result"
        }
      ],
      "source": [
        "zero = pd.DataFrame(zero)\n",
        "zero = zero.dropna(1)\n",
        "zero.astype(np.int16)\n",
        "zero = zero.values\n",
        "zero"
      ]
    },
    {
      "cell_type": "code",
      "execution_count": 7,
      "metadata": {},
      "outputs": [],
      "source": [
        "# zero = pd.DataFrame(zero)\n",
        "# zero = zero.fillna(0)\n",
        "# # list_zeros = list_zeros.dropna()\n",
        "# # list_zero = list_zeros.astype(np.int16)\n",
        "# col=np.array(zero, np.int16)\n",
        "# zero = zero.values\n",
        "# zero"
      ]
    },
    {
      "cell_type": "markdown",
      "metadata": {
        "id": "litpLIunTg_2"
      },
      "source": [
        "Điều quan trọng là phải biết  (bao nhiêu mẫu audio_samples) độ dài dữ liệu hiện có.\n",
        "\n",
        "`zero` hiện có shape giống như` [n_samples, n_audio_samples] `, vì vậy hãy lấy số lượng` n_audio_samples` và lưu trữ nó trong biến `n_audio_samples`:"
      ]
    },
    {
      "cell_type": "markdown",
      "metadata": {},
      "source": [
        "mỗi samples chính là audio_samples có 6273 feature"
      ]
    },
    {
      "cell_type": "code",
      "execution_count": 8,
      "metadata": {},
      "outputs": [
        {
          "data": {
            "text/plain": [
              "array([[-369, -431, -475, ..., -108, -402, -884],\n",
              "       [-311,  -91, -140, ..., -422, -462, -460],\n",
              "       [-314, -303, -332, ..., 3418, 2640, 1202],\n",
              "       ...,\n",
              "       [-417,  152,  168, ...,  638,  463,  332],\n",
              "       [ 330,  382,  389, ...,  602,  708,  701],\n",
              "       [-312, -335, -338, ...,  644,  815,  580]], dtype=int16)"
            ]
          },
          "execution_count": 8,
          "metadata": {},
          "output_type": "execute_result"
        }
      ],
      "source": [
        "zero"
      ]
    },
    {
      "cell_type": "code",
      "execution_count": 9,
      "metadata": {
        "id": "BJT-HkwsTg_4"
      },
      "outputs": [
        {
          "name": "stdout",
          "output_type": "stream",
          "text": [
            "(50, 4087)\n"
          ]
        }
      ],
      "source": [
        "print(zero.shape)"
      ]
    },
    {
      "cell_type": "markdown",
      "metadata": {
        "id": "X_o9dFonajuZ"
      },
      "source": [
        "## 2. Huấn luyện mô hình"
      ]
    },
    {
      "cell_type": "markdown",
      "metadata": {
        "id": "OKs-DpagTg__"
      },
      "source": [
        "Tạo mô hình hồi quy tuyến tính của bạn tại đây và lưu trữ nó trong biến `model`. Đừng vội huấn luyện hoặc làm bất cứ điều gì khác với nó:"
      ]
    },
    {
      "cell_type": "code",
      "execution_count": 10,
      "metadata": {
        "id": "YYi87mhQThAA"
      },
      "outputs": [],
      "source": [
        "import matplotlib.pyplot as plt\n",
        "import pandas as pd\n",
        "import pylab as pl\n",
        "import numpy as np\n",
        "%matplotlib inline"
      ]
    },
    {
      "cell_type": "code",
      "execution_count": 11,
      "metadata": {},
      "outputs": [],
      "source": [
        "msk = np.random.rand(len(zero)) < 0.8\n",
        "train = zero[msk]\n",
        "test = zero[~msk]"
      ]
    },
    {
      "cell_type": "code",
      "execution_count": 12,
      "metadata": {},
      "outputs": [],
      "source": [
        "from sklearn import linear_model\n",
        "regr = linear_model.LinearRegression()"
      ]
    },
    {
      "cell_type": "markdown",
      "metadata": {
        "id": "Q1sUz2UwThAF"
      },
      "source": [
        "Có 50 bản ghi mỗi clip. Bạn chỉ muốn lấy ngẫu nhiên một trong số chúng ra và cái đó sẽ KHÔNG được sử dụng trong quá trình huấn luyện mô hình. Nói cách khác, tệp mà chúng ta sẽ kiểm tra/chấm điểm sẽ là một mẫu không nhìn thấy, độc lập với phần còn lại của training set:"
      ]
    },
    {
      "cell_type": "markdown",
      "metadata": {},
      "source": [
        "Nếu seed là Không, trả về singleton RandomState được sử dụng bởi np.random. Nếu seed là một int, trả về một cá thể RandomState mới được tạo seed. Nếu seed đã là một phiên bản RandomState, hãy trả lại nó. Nếu không, tăng ValueError."
      ]
    },
    {
      "cell_type": "code",
      "execution_count": 13,
      "metadata": {
        "id": "8ewvSE_1ThAG"
      },
      "outputs": [],
      "source": [
        "rng = check_random_state(7)\n",
        "\n",
        "random_idx = rng.randint(zero.shape[0])\n",
        "test  = zero[random_idx]\n",
        "train = np.delete(zero, [random_idx], axis=0)"
      ]
    },
    {
      "cell_type": "markdown",
      "metadata": {
        "id": "l-ft2fTvThAO"
      },
      "source": [
        "In ra shape của `train` và `test`.\n",
        "\n",
        "`train` sẽ có dạng:`[n_samples, n_audio_samples]`, trong đó `n_audio_samples` là 'features' (thuộc tính) của tệp âm thanh\n",
        "\n",
        "`test` sẽ có dạng `[n_audio_features]`, vì nó là mẫu duy nhất (tệp âm thanh, ví dụ: quan sát)."
      ]
    },
    {
      "cell_type": "code",
      "execution_count": 14,
      "metadata": {
        "id": "Soc8ciucThAP"
      },
      "outputs": [
        {
          "data": {
            "text/plain": [
              "array([-417,  152,  168, ...,  638,  463,  332], dtype=int16)"
            ]
          },
          "execution_count": 14,
          "metadata": {},
          "output_type": "execute_result"
        }
      ],
      "source": [
        "test"
      ]
    },
    {
      "cell_type": "code",
      "execution_count": 15,
      "metadata": {},
      "outputs": [
        {
          "data": {
            "text/plain": [
              "(4087,)"
            ]
          },
          "execution_count": 15,
          "metadata": {},
          "output_type": "execute_result"
        }
      ],
      "source": [
        "test.shape"
      ]
    },
    {
      "cell_type": "code",
      "execution_count": 16,
      "metadata": {},
      "outputs": [
        {
          "data": {
            "text/plain": [
              "array([[-369, -431, -475, ..., -108, -402, -884],\n",
              "       [-311,  -91, -140, ..., -422, -462, -460],\n",
              "       [-314, -303, -332, ..., 3418, 2640, 1202],\n",
              "       ...,\n",
              "       [ 364,  420,  469, ..., -697, -714, -898],\n",
              "       [ 330,  382,  389, ...,  602,  708,  701],\n",
              "       [-312, -335, -338, ...,  644,  815,  580]], dtype=int16)"
            ]
          },
          "execution_count": 16,
          "metadata": {},
          "output_type": "execute_result"
        }
      ],
      "source": [
        "train"
      ]
    },
    {
      "cell_type": "code",
      "execution_count": 17,
      "metadata": {},
      "outputs": [
        {
          "data": {
            "text/plain": [
              "(49, 4087)"
            ]
          },
          "execution_count": 17,
          "metadata": {},
          "output_type": "execute_result"
        }
      ],
      "source": [
        "train.shape"
      ]
    },
    {
      "cell_type": "markdown",
      "metadata": {
        "collapsed": true,
        "id": "xIoIIWN-ThAb"
      },
      "source": [
        "Dữ liệu thử nghiệm sẽ có hai phần, `X_test` và` y_test`.\n",
        "\n",
        "`X_test` là phần đầu tiên của tệp âm thanh thử nghiệm mà chúng ta sẽ cung cấp cho máy tính làm input.\n",
        "\n",
        "`y_test`,\"nhãn\" sẽ là phần còn lại của tệp âm thanh. Như vậy, máy tính sẽ sử dụng hồi quy tuyến tính để lấy ra phần bị thiếu của tệp âm thanh dựa trên dữ liệu huấn luyện mà nó nhận được!\n",
        "\n",
        "Hãy lưu clip `test` ban đầu, clip mà bạn sắp xóa một nửa vào thư mục hiện tại để bạn có thể so sánh nó với clip 'đã vá' sau khi tạo. Bạn hẳn đã có `sample_rate` khi tải lên các tệp .wav: "
      ]
    },
    {
      "cell_type": "markdown",
      "metadata": {},
      "source": [
        "**sample rate là tần số lấy mẫu, là số giá trị để biểu thị âm thanh trong 1s, tần số mẫu càng cao thì âm thanh càng thi tiết**"
      ]
    },
    {
      "cell_type": "code",
      "execution_count": 18,
      "metadata": {
        "id": "zxPW90H9ThAd"
      },
      "outputs": [],
      "source": [
        "wavfile.write('Original Test Clip.wav', sample_rate, test)"
      ]
    },
    {
      "cell_type": "markdown",
      "metadata": {
        "id": "rIkmkMqNThAk"
      },
      "source": [
        "Chuẩn bị dữ liệu TEST bằng cách tạo lát `X_test`. Nó phải có các thuộc tính mẫu âm thanh `Provided_Portion` * `n_audio_samples`, được lấy từ tệp âm thanh thử nghiệm, hiện được lưu trữ trong biến `test`. Nói cách khác, lấy các thuộc tính âm thanh `Provided_Portion` * `n_audio_samples` ĐẦU TIÊN từ `test` và lưu trữ nó trong` X_test`. Điều này sẽ được thực hiện bằng cách sử dụng lập chỉ mục:"
      ]
    },
    {
      "cell_type": "code",
      "execution_count": 19,
      "metadata": {},
      "outputs": [
        {
          "data": {
            "text/plain": [
              "((3065,), (1022,))"
            ]
          },
          "execution_count": 19,
          "metadata": {},
          "output_type": "execute_result"
        }
      ],
      "source": [
        "X_test = test[:int((1-Provided_Portion)*test.shape[0])]\n",
        "Y_test = test[int((1-Provided_Portion)*test.shape[0]):]\n",
        "\n",
        "X_test.shape, Y_test.shape"
      ]
    },
    {
      "cell_type": "markdown",
      "metadata": {
        "collapsed": false,
        "id": "Pt50X7z-ThAw"
      },
      "source": [
        "Nếu các thuộc tính `Provided_Portion` * `n_audio_samples` đầu tiên được lưu trữ trong `X_test`, thì chúng ta cũng cần lấy các thuộc tính âm thanh _còn lại_ và lưu trữ chúng trong` y_test`. Với các thuộc tính còn lại được lưu trữ trong đó, chúng ta sẽ có thể R ^ 2 \"chấm điểm\" thuật toán đã làm tốt như thế nào trong việc hoàn thành tệp âm thanh."
      ]
    },
    {
      "cell_type": "code",
      "execution_count": null,
      "metadata": {
        "id": "AbbmCXo9ThAx"
      },
      "outputs": [],
      "source": []
    },
    {
      "cell_type": "markdown",
      "metadata": {},
      "source": [
        "cắt ra 1 phần để làm train_x 1 phần làm train_y\n",
        "\n",
        "tỉ lệ 0.8 - 0.2\n",
        "\n",
        "hiện có 1 đoạn âm thành dài 6273 feature\n",
        "\n",
        "tách ra 1 phần để train 1 phần để làm label"
      ]
    },
    {
      "cell_type": "markdown",
      "metadata": {
        "id": "W0DXxAEhThBA"
      },
      "source": [
        "Lặp lại quy trình tương tự cho `X_train`, `y_train`. Sự khác biệt duy nhất là:\n",
        "\n",
        "1. Bạn sẽ nhận được dữ liệu âm thanh từ `train` thay vì từ `test`\n",
        "2. Bạn có nhớ shape của `train` mà bạn đã in ra trước đó không? Bạn muốn thực hiện việc cắt này nhưng đối với TẤT CẢ các mẫu (quan sát). Đối với mỗ quan sát, bạn muốn chia các thuộc tính âm thanh `Provided_Portion` * `n_audio_samples` đầu tiên thành `X_train`, và phần còn lại chuyển vào `y_train`. Có thể thực hiện tất cả những điều này bằng lập chỉ mục thông thường ở 2 dòng code:"
      ]
    },
    {
      "cell_type": "code",
      "execution_count": 20,
      "metadata": {},
      "outputs": [
        {
          "data": {
            "text/plain": [
              "((3065,), (1022,))"
            ]
          },
          "execution_count": 20,
          "metadata": {},
          "output_type": "execute_result"
        }
      ],
      "source": [
        "X_test.shape, Y_test.shape"
      ]
    },
    {
      "cell_type": "code",
      "execution_count": 21,
      "metadata": {},
      "outputs": [
        {
          "data": {
            "text/plain": [
              "((49, 3065), (49, 1022))"
            ]
          },
          "execution_count": 21,
          "metadata": {},
          "output_type": "execute_result"
        }
      ],
      "source": [
        "X_train = train[:, :int((1-Provided_Portion)*train.shape[1])]\n",
        "Y_train = train[:, int((1-Provided_Portion)*train.shape[1]):]\n",
        "\n",
        "X_train.shape, Y_train.shape"
      ]
    },
    {
      "cell_type": "markdown",
      "metadata": {
        "id": "gVZG3AQwThBN"
      },
      "source": [
        "SciKit-Learn sẽ 'tức giận' nếu bạn không cung cấp dữ liệu huấn luyện dưới dạng khung dữ liệu 2D có shape `[n_samples, n_features]`.\n",
        "\n",
        "Vì vậy, nếu bạn chỉ có một MẪU, chẳng hạn như trường hợp của chúng ta với `X_test` và `y_test` thì bằng cách gọi `.reshape(1, -1)`, bạn có thể biến `[n_features]` thành `[1, n_features] `để đáp ứng SciKit-Learn.\n",
        "\n",
        "Mặt khác, nếu bạn chỉ có một THUỘC TÍNH, bạn có thể gọi `.reshape (-1, 1)` trên dữ liệu của mình để biến `[n_samples]` thành `[n_samples, 1]`.\n",
        "\n",
        "Định hình lại X_test và y_test thành [1, n_features]:"
      ]
    },
    {
      "cell_type": "code",
      "execution_count": 22,
      "metadata": {
        "id": "ovi6Z4vAThBO"
      },
      "outputs": [],
      "source": [
        "X_test = X_test.reshape(1,-1)\n",
        "Y_test = Y_test.reshape(1,-1)"
      ]
    },
    {
      "cell_type": "code",
      "execution_count": 23,
      "metadata": {},
      "outputs": [
        {
          "data": {
            "text/plain": [
              "(1, 3065)"
            ]
          },
          "execution_count": 23,
          "metadata": {},
          "output_type": "execute_result"
        }
      ],
      "source": [
        "X_test.shape"
      ]
    },
    {
      "cell_type": "code",
      "execution_count": 24,
      "metadata": {},
      "outputs": [
        {
          "data": {
            "text/plain": [
              "(1, 1022)"
            ]
          },
          "execution_count": 24,
          "metadata": {},
          "output_type": "execute_result"
        }
      ],
      "source": [
        "Y_test.shape"
      ]
    },
    {
      "cell_type": "code",
      "execution_count": 25,
      "metadata": {},
      "outputs": [
        {
          "data": {
            "text/plain": [
              "array([[4253, 5050, 4948, ...,  638,  463,  332]], dtype=int16)"
            ]
          },
          "execution_count": 25,
          "metadata": {},
          "output_type": "execute_result"
        }
      ],
      "source": [
        "Y_test"
      ]
    },
    {
      "cell_type": "code",
      "execution_count": 26,
      "metadata": {},
      "outputs": [
        {
          "data": {
            "text/plain": [
              "(49, 3065)"
            ]
          },
          "execution_count": 26,
          "metadata": {},
          "output_type": "execute_result"
        }
      ],
      "source": [
        "X_train.shape"
      ]
    },
    {
      "cell_type": "code",
      "execution_count": 27,
      "metadata": {},
      "outputs": [
        {
          "data": {
            "text/plain": [
              "(49, 1022)"
            ]
          },
          "execution_count": 27,
          "metadata": {},
          "output_type": "execute_result"
        }
      ],
      "source": [
        "Y_train.shape"
      ]
    },
    {
      "cell_type": "markdown",
      "metadata": {},
      "source": [
        "# Bắt đầu lại ở đây"
      ]
    },
    {
      "cell_type": "markdown",
      "metadata": {
        "id": "pveoa3OSThBV"
      },
      "source": [
        "Điều chỉnh mô hình của bạn bằng cách sử dụng dữ liệu huấn luyện và nhãn:"
      ]
    },
    {
      "cell_type": "code",
      "execution_count": 28,
      "metadata": {},
      "outputs": [
        {
          "data": {
            "text/html": [
              "<style>#sk-container-id-1 {color: black;background-color: white;}#sk-container-id-1 pre{padding: 0;}#sk-container-id-1 div.sk-toggleable {background-color: white;}#sk-container-id-1 label.sk-toggleable__label {cursor: pointer;display: block;width: 100%;margin-bottom: 0;padding: 0.3em;box-sizing: border-box;text-align: center;}#sk-container-id-1 label.sk-toggleable__label-arrow:before {content: \"▸\";float: left;margin-right: 0.25em;color: #696969;}#sk-container-id-1 label.sk-toggleable__label-arrow:hover:before {color: black;}#sk-container-id-1 div.sk-estimator:hover label.sk-toggleable__label-arrow:before {color: black;}#sk-container-id-1 div.sk-toggleable__content {max-height: 0;max-width: 0;overflow: hidden;text-align: left;background-color: #f0f8ff;}#sk-container-id-1 div.sk-toggleable__content pre {margin: 0.2em;color: black;border-radius: 0.25em;background-color: #f0f8ff;}#sk-container-id-1 input.sk-toggleable__control:checked~div.sk-toggleable__content {max-height: 200px;max-width: 100%;overflow: auto;}#sk-container-id-1 input.sk-toggleable__control:checked~label.sk-toggleable__label-arrow:before {content: \"▾\";}#sk-container-id-1 div.sk-estimator input.sk-toggleable__control:checked~label.sk-toggleable__label {background-color: #d4ebff;}#sk-container-id-1 div.sk-label input.sk-toggleable__control:checked~label.sk-toggleable__label {background-color: #d4ebff;}#sk-container-id-1 input.sk-hidden--visually {border: 0;clip: rect(1px 1px 1px 1px);clip: rect(1px, 1px, 1px, 1px);height: 1px;margin: -1px;overflow: hidden;padding: 0;position: absolute;width: 1px;}#sk-container-id-1 div.sk-estimator {font-family: monospace;background-color: #f0f8ff;border: 1px dotted black;border-radius: 0.25em;box-sizing: border-box;margin-bottom: 0.5em;}#sk-container-id-1 div.sk-estimator:hover {background-color: #d4ebff;}#sk-container-id-1 div.sk-parallel-item::after {content: \"\";width: 100%;border-bottom: 1px solid gray;flex-grow: 1;}#sk-container-id-1 div.sk-label:hover label.sk-toggleable__label {background-color: #d4ebff;}#sk-container-id-1 div.sk-serial::before {content: \"\";position: absolute;border-left: 1px solid gray;box-sizing: border-box;top: 0;bottom: 0;left: 50%;z-index: 0;}#sk-container-id-1 div.sk-serial {display: flex;flex-direction: column;align-items: center;background-color: white;padding-right: 0.2em;padding-left: 0.2em;position: relative;}#sk-container-id-1 div.sk-item {position: relative;z-index: 1;}#sk-container-id-1 div.sk-parallel {display: flex;align-items: stretch;justify-content: center;background-color: white;position: relative;}#sk-container-id-1 div.sk-item::before, #sk-container-id-1 div.sk-parallel-item::before {content: \"\";position: absolute;border-left: 1px solid gray;box-sizing: border-box;top: 0;bottom: 0;left: 50%;z-index: -1;}#sk-container-id-1 div.sk-parallel-item {display: flex;flex-direction: column;z-index: 1;position: relative;background-color: white;}#sk-container-id-1 div.sk-parallel-item:first-child::after {align-self: flex-end;width: 50%;}#sk-container-id-1 div.sk-parallel-item:last-child::after {align-self: flex-start;width: 50%;}#sk-container-id-1 div.sk-parallel-item:only-child::after {width: 0;}#sk-container-id-1 div.sk-dashed-wrapped {border: 1px dashed gray;margin: 0 0.4em 0.5em 0.4em;box-sizing: border-box;padding-bottom: 0.4em;background-color: white;}#sk-container-id-1 div.sk-label label {font-family: monospace;font-weight: bold;display: inline-block;line-height: 1.2em;}#sk-container-id-1 div.sk-label-container {text-align: center;}#sk-container-id-1 div.sk-container {/* jupyter's `normalize.less` sets `[hidden] { display: none; }` but bootstrap.min.css set `[hidden] { display: none !important; }` so we also need the `!important` here to be able to override the default hidden behavior on the sphinx rendered scikit-learn.org. See: https://github.com/scikit-learn/scikit-learn/issues/21755 */display: inline-block !important;position: relative;}#sk-container-id-1 div.sk-text-repr-fallback {display: none;}</style><div id=\"sk-container-id-1\" class=\"sk-top-container\"><div class=\"sk-text-repr-fallback\"><pre>LinearRegression()</pre><b>In a Jupyter environment, please rerun this cell to show the HTML representation or trust the notebook. <br />On GitHub, the HTML representation is unable to render, please try loading this page with nbviewer.org.</b></div><div class=\"sk-container\" hidden><div class=\"sk-item\"><div class=\"sk-estimator sk-toggleable\"><input class=\"sk-toggleable__control sk-hidden--visually\" id=\"sk-estimator-id-1\" type=\"checkbox\" checked><label for=\"sk-estimator-id-1\" class=\"sk-toggleable__label sk-toggleable__label-arrow\">LinearRegression</label><div class=\"sk-toggleable__content\"><pre>LinearRegression()</pre></div></div></div></div></div>"
            ],
            "text/plain": [
              "LinearRegression()"
            ]
          },
          "execution_count": 28,
          "metadata": {},
          "output_type": "execute_result"
        }
      ],
      "source": [
        "from sklearn.linear_model import LinearRegression\n",
        "# Hồi quy này là một biến mới và đồng thời sẽ trở thành đối tượng của tuyến tính.\n",
        "regressor = LinearRegression()\n",
        "regressor.fit(X_train, Y_train)"
      ]
    },
    {
      "cell_type": "markdown",
      "metadata": {
        "id": "beK3QB4Ha1SW"
      },
      "source": [
        "## 3. Đánh giá mô hình"
      ]
    },
    {
      "cell_type": "markdown",
      "metadata": {
        "id": "xkUDZHtkThBd"
      },
      "source": [
        "Sử dụng mô hình để dự đoán `label` của `X_test`. Lưu trữ dự đoán kết quả trong biến `y_test_prediction`:"
      ]
    },
    {
      "cell_type": "code",
      "execution_count": 29,
      "metadata": {},
      "outputs": [],
      "source": [
        "y_test_prediction = regressor.predict(X_test)"
      ]
    },
    {
      "cell_type": "markdown",
      "metadata": {
        "id": "9oSFOALZThBi"
      },
      "source": [
        "SciKit-Learn sẽ sử dụng float64 để tạo các dự đoán của bạn, vì vậy hãy đưa các giá trị đó trở lại int16, đó là những gì tệp .wav cần:"
      ]
    },
    {
      "cell_type": "code",
      "execution_count": 30,
      "metadata": {
        "id": "wbnClMVCThBj"
      },
      "outputs": [],
      "source": [
        "y_test_prediction = y_test_prediction.astype(dtype=np.int16)"
      ]
    },
    {
      "cell_type": "code",
      "execution_count": 31,
      "metadata": {},
      "outputs": [
        {
          "name": "stdout",
          "output_type": "stream",
          "text": [
            "Coefficients:  [[ 4.67108708e-04  5.23655853e-05 -4.21577064e-04 ...  5.37261715e-03\n",
            "   1.22999209e-02  1.80275869e-02]\n",
            " [ 3.31707834e-04  8.96135981e-05 -2.50559717e-04 ...  4.27282090e-05\n",
            "   8.36604800e-03  1.60064465e-02]\n",
            " [ 1.45121989e-03  4.95827047e-04 -4.53225174e-04 ... -5.33747524e-03\n",
            "   3.43733114e-03  1.23009576e-02]\n",
            " ...\n",
            " [ 2.13283915e-04  1.77043922e-04  1.46367342e-04 ...  2.22833034e-03\n",
            "   1.45344777e-03  6.80209792e-04]\n",
            " [-2.19978194e-04  3.46974686e-05  2.55214941e-04 ...  2.83574465e-03\n",
            "   1.50611165e-03  5.14780526e-05]\n",
            " [-3.53650197e-04 -1.91173453e-05  2.67932804e-04 ...  3.48322720e-03\n",
            "   1.85501506e-03  7.96970187e-05]]\n",
            "Intercept:  [ -692.5484125   -872.27308731 -1044.51179778 ...   192.18220607\n",
            "    54.71038803  -159.65422944]\n"
          ]
        }
      ],
      "source": [
        "print ('Coefficients: ', regressor.coef_)\n",
        "print ('Intercept: ',regressor.intercept_)"
      ]
    },
    {
      "cell_type": "markdown",
      "metadata": {
        "id": "oYqV-K4IThBo"
      },
      "source": [
        "Chấm điểm dự đoán của bạn sẽ hoạt động tốt như thế nào bằng cách truyền dữ liệu và nhãn thử nghiệm `y_test`:"
      ]
    },
    {
      "cell_type": "code",
      "execution_count": 32,
      "metadata": {},
      "outputs": [
        {
          "data": {
            "text/plain": [
              "array([[-2318, -1819, -1367, ...,  -997, -1733, -2233]], dtype=int16)"
            ]
          },
          "execution_count": 32,
          "metadata": {},
          "output_type": "execute_result"
        }
      ],
      "source": [
        "y_test_prediction"
      ]
    },
    {
      "cell_type": "code",
      "execution_count": 33,
      "metadata": {},
      "outputs": [
        {
          "data": {
            "text/plain": [
              "array([[4253, 5050, 4948, ...,  638,  463,  332]], dtype=int16)"
            ]
          },
          "execution_count": 33,
          "metadata": {},
          "output_type": "execute_result"
        }
      ],
      "source": [
        "Y_test"
      ]
    },
    {
      "cell_type": "code",
      "execution_count": 34,
      "metadata": {},
      "outputs": [
        {
          "name": "stdout",
          "output_type": "stream",
          "text": [
            "Mean absolute error: 1392.25\n",
            "Residual sum of squares (MSE): 1314.55\n",
            "R2-score: 1.00\n"
          ]
        }
      ],
      "source": [
        "from sklearn.metrics import r2_score\n",
        "\n",
        "print(\"Mean absolute error: %.2f\" % np.mean(np.absolute(y_test_prediction - Y_test)))\n",
        "print(\"Residual sum of squares (MSE): %.2f\" % np.mean((y_test_prediction - Y_test) ** 2))\n",
        "print(\"R2-score: %.2f\" % r2_score(Y_test[0], y_test_prediction[0]) )"
      ]
    },
    {
      "cell_type": "markdown",
      "metadata": {},
      "source": [
        "Điểm R ^ 2 ngoại suy"
      ]
    },
    {
      "cell_type": "code",
      "execution_count": 35,
      "metadata": {
        "id": "uAwVxcTOThBu"
      },
      "outputs": [],
      "source": [
        "# print(\"Extrapolation R^2 Score: \", score)"
      ]
    },
    {
      "cell_type": "markdown",
      "metadata": {
        "id": "Qxlg7hWRThB1"
      },
      "source": [
        "Hãy lấy phần `Provided_Portion` đầu tiên của clip thử nghiệm, phần mà bạn đã đưa vào mô hình hồi quy tuyến tính. Sau đó, kết hợp điều đó với thứ mà mô hình dự đoán đã tạo cho bạn và sau đó lưu đoạn âm thanh đã hoàn thành:"
      ]
    },
    {
      "cell_type": "code",
      "execution_count": 36,
      "metadata": {
        "id": "co0UKuZ0ThB2"
      },
      "outputs": [],
      "source": [
        "completed_clip = np.hstack((X_test, y_test_prediction))\n",
        "wavfile.write('Extrapolated Clip.wav', sample_rate, completed_clip[0])"
      ]
    }
  ],
  "metadata": {
    "anaconda-cloud": {},
    "colab": {
      "collapsed_sections": [],
      "provenance": []
    },
    "kernelspec": {
      "display_name": "Python 3.10.6 64-bit",
      "language": "python",
      "name": "python3"
    },
    "language_info": {
      "codemirror_mode": {
        "name": "ipython",
        "version": 3
      },
      "file_extension": ".py",
      "mimetype": "text/x-python",
      "name": "python",
      "nbconvert_exporter": "python",
      "pygments_lexer": "ipython3",
      "version": "3.10.6"
    },
    "toc": {
      "colors": {
        "hover_highlight": "#DAA520",
        "running_highlight": "#FF0000",
        "selected_highlight": "#FFD700"
      },
      "moveMenuLeft": true,
      "nav_menu": {
        "height": "58px",
        "width": "252px"
      },
      "navigate_menu": true,
      "number_sections": true,
      "sideBar": true,
      "threshold": 4,
      "toc_cell": false,
      "toc_section_display": "block",
      "toc_window_display": false,
      "widenNotebook": false
    },
    "vscode": {
      "interpreter": {
        "hash": "9ad7f758c7f2ebdda2cc4f553f1363ed8fbfe288e0aece9aaf2ec73dff90b611"
      }
    }
  },
  "nbformat": 4,
  "nbformat_minor": 0
}
